{
 "cells": [
  {
   "cell_type": "code",
   "execution_count": 4,
   "metadata": {},
   "outputs": [
    {
     "name": "stdout",
     "output_type": "stream",
     "text": [
      "WARNING: pip is being invoked by an old script wrapper. This will fail in a future version of pip.\n",
      "Please see https://github.com/pypa/pip/issues/5599 for advice on fixing the underlying issue.\n",
      "To avoid this problem you can invoke Python with '-m pip' instead of running pip directly.\n",
      "/usr/lib/python3/dist-packages/secretstorage/dhcrypto.py:15: CryptographyDeprecationWarning: int_from_bytes is deprecated, use int.from_bytes instead\n",
      "  from cryptography.utils import int_from_bytes\n",
      "/usr/lib/python3/dist-packages/secretstorage/util.py:19: CryptographyDeprecationWarning: int_from_bytes is deprecated, use int.from_bytes instead\n",
      "  from cryptography.utils import int_from_bytes\n",
      "Defaulting to user installation because normal site-packages is not writeable\n",
      "Requirement already satisfied: matplotlib in /home/plavainne/.local/lib/python3.7/site-packages (3.3.4)\n",
      "Requirement already satisfied: numpy>=1.15 in /home/plavainne/.local/lib/python3.7/site-packages (from matplotlib) (1.20.2)\n",
      "Requirement already satisfied: kiwisolver>=1.0.1 in /home/plavainne/.local/lib/python3.7/site-packages (from matplotlib) (1.3.1)\n",
      "Requirement already satisfied: pyparsing!=2.0.4,!=2.1.2,!=2.1.6,>=2.0.3 in /home/plavainne/.local/lib/python3.7/site-packages (from matplotlib) (2.4.7)\n",
      "Requirement already satisfied: python-dateutil>=2.1 in /home/plavainne/.local/lib/python3.7/site-packages (from matplotlib) (2.8.1)\n",
      "Requirement already satisfied: pillow>=6.2.0 in /home/plavainne/.local/lib/python3.7/site-packages (from matplotlib) (8.1.2)\n",
      "Requirement already satisfied: cycler>=0.10 in /home/plavainne/.local/lib/python3.7/site-packages (from matplotlib) (0.10.0)\n",
      "Requirement already satisfied: six in /home/plavainne/.local/lib/python3.7/site-packages (from cycler>=0.10->matplotlib) (1.15.0)\n",
      "WARNING: pip is being invoked by an old script wrapper. This will fail in a future version of pip.\n",
      "Please see https://github.com/pypa/pip/issues/5599 for advice on fixing the underlying issue.\n",
      "To avoid this problem you can invoke Python with '-m pip' instead of running pip directly.\n",
      "/usr/lib/python3/dist-packages/secretstorage/dhcrypto.py:15: CryptographyDeprecationWarning: int_from_bytes is deprecated, use int.from_bytes instead\n",
      "  from cryptography.utils import int_from_bytes\n",
      "/usr/lib/python3/dist-packages/secretstorage/util.py:19: CryptographyDeprecationWarning: int_from_bytes is deprecated, use int.from_bytes instead\n",
      "  from cryptography.utils import int_from_bytes\n",
      "Defaulting to user installation because normal site-packages is not writeable\n",
      "Requirement already satisfied: keras in /home/plavainne/.local/lib/python3.7/site-packages (2.4.3)\n",
      "Requirement already satisfied: h5py in /home/plavainne/.local/lib/python3.7/site-packages (from keras) (2.10.0)\n",
      "Requirement already satisfied: pyyaml in /home/plavainne/.local/lib/python3.7/site-packages (from keras) (5.4.1)\n",
      "Requirement already satisfied: scipy>=0.14 in /home/plavainne/.local/lib/python3.7/site-packages (from keras) (1.6.2)\n",
      "Requirement already satisfied: numpy>=1.9.1 in /home/plavainne/.local/lib/python3.7/site-packages (from keras) (1.20.2)\n",
      "Requirement already satisfied: six in /home/plavainne/.local/lib/python3.7/site-packages (from h5py->keras) (1.15.0)\n",
      "WARNING: pip is being invoked by an old script wrapper. This will fail in a future version of pip.\n",
      "Please see https://github.com/pypa/pip/issues/5599 for advice on fixing the underlying issue.\n",
      "To avoid this problem you can invoke Python with '-m pip' instead of running pip directly.\n",
      "/usr/lib/python3/dist-packages/secretstorage/dhcrypto.py:15: CryptographyDeprecationWarning: int_from_bytes is deprecated, use int.from_bytes instead\n",
      "  from cryptography.utils import int_from_bytes\n",
      "/usr/lib/python3/dist-packages/secretstorage/util.py:19: CryptographyDeprecationWarning: int_from_bytes is deprecated, use int.from_bytes instead\n",
      "  from cryptography.utils import int_from_bytes\n",
      "Defaulting to user installation because normal site-packages is not writeable\n",
      "Requirement already satisfied: spectral in /home/plavainne/.local/lib/python3.7/site-packages (0.22.1)\n",
      "Requirement already satisfied: numpy in /home/plavainne/.local/lib/python3.7/site-packages (from spectral) (1.20.2)\n",
      "WARNING: pip is being invoked by an old script wrapper. This will fail in a future version of pip.\n",
      "Please see https://github.com/pypa/pip/issues/5599 for advice on fixing the underlying issue.\n",
      "To avoid this problem you can invoke Python with '-m pip' instead of running pip directly.\n",
      "/usr/lib/python3/dist-packages/secretstorage/dhcrypto.py:15: CryptographyDeprecationWarning: int_from_bytes is deprecated, use int.from_bytes instead\n",
      "  from cryptography.utils import int_from_bytes\n",
      "/usr/lib/python3/dist-packages/secretstorage/util.py:19: CryptographyDeprecationWarning: int_from_bytes is deprecated, use int.from_bytes instead\n",
      "  from cryptography.utils import int_from_bytes\n",
      "Defaulting to user installation because normal site-packages is not writeable\n",
      "Requirement already satisfied: seaborn in /home/plavainne/.local/lib/python3.7/site-packages (0.11.1)\n",
      "Requirement already satisfied: pandas>=0.23 in /home/plavainne/.local/lib/python3.7/site-packages (from seaborn) (1.2.3)\n",
      "Requirement already satisfied: matplotlib>=2.2 in /home/plavainne/.local/lib/python3.7/site-packages (from seaborn) (3.3.4)\n",
      "Requirement already satisfied: scipy>=1.0 in /home/plavainne/.local/lib/python3.7/site-packages (from seaborn) (1.6.2)\n",
      "Requirement already satisfied: numpy>=1.15 in /home/plavainne/.local/lib/python3.7/site-packages (from seaborn) (1.20.2)\n",
      "Requirement already satisfied: cycler>=0.10 in /home/plavainne/.local/lib/python3.7/site-packages (from matplotlib>=2.2->seaborn) (0.10.0)\n",
      "Requirement already satisfied: pyparsing!=2.0.4,!=2.1.2,!=2.1.6,>=2.0.3 in /home/plavainne/.local/lib/python3.7/site-packages (from matplotlib>=2.2->seaborn) (2.4.7)\n",
      "Requirement already satisfied: kiwisolver>=1.0.1 in /home/plavainne/.local/lib/python3.7/site-packages (from matplotlib>=2.2->seaborn) (1.3.1)\n",
      "Requirement already satisfied: pillow>=6.2.0 in /home/plavainne/.local/lib/python3.7/site-packages (from matplotlib>=2.2->seaborn) (8.1.2)\n",
      "Requirement already satisfied: python-dateutil>=2.1 in /home/plavainne/.local/lib/python3.7/site-packages (from matplotlib>=2.2->seaborn) (2.8.1)\n",
      "Requirement already satisfied: six in /home/plavainne/.local/lib/python3.7/site-packages (from cycler>=0.10->matplotlib>=2.2->seaborn) (1.15.0)\n",
      "Requirement already satisfied: pytz>=2017.3 in /home/plavainne/.local/lib/python3.7/site-packages (from pandas>=0.23->seaborn) (2021.1)\n",
      "WARNING: pip is being invoked by an old script wrapper. This will fail in a future version of pip.\n",
      "Please see https://github.com/pypa/pip/issues/5599 for advice on fixing the underlying issue.\n",
      "To avoid this problem you can invoke Python with '-m pip' instead of running pip directly.\n",
      "/usr/lib/python3/dist-packages/secretstorage/dhcrypto.py:15: CryptographyDeprecationWarning: int_from_bytes is deprecated, use int.from_bytes instead\n",
      "  from cryptography.utils import int_from_bytes\n",
      "/usr/lib/python3/dist-packages/secretstorage/util.py:19: CryptographyDeprecationWarning: int_from_bytes is deprecated, use int.from_bytes instead\n",
      "  from cryptography.utils import int_from_bytes\n",
      "Defaulting to user installation because normal site-packages is not writeable\n",
      "Requirement already satisfied: scikit-image in /home/plavainne/.local/lib/python3.7/site-packages (0.18.1)\n",
      "Requirement already satisfied: tifffile>=2019.7.26 in /home/plavainne/.local/lib/python3.7/site-packages (from scikit-image) (2021.3.5)\n",
      "Requirement already satisfied: networkx>=2.0 in /home/plavainne/.local/lib/python3.7/site-packages (from scikit-image) (2.5)\n",
      "Requirement already satisfied: pillow!=7.1.0,!=7.1.1,>=4.3.0 in /home/plavainne/.local/lib/python3.7/site-packages (from scikit-image) (8.1.2)\n",
      "Requirement already satisfied: numpy>=1.16.5 in /home/plavainne/.local/lib/python3.7/site-packages (from scikit-image) (1.20.2)\n",
      "Requirement already satisfied: PyWavelets>=1.1.1 in /home/plavainne/.local/lib/python3.7/site-packages (from scikit-image) (1.1.1)\n",
      "Requirement already satisfied: scipy>=1.0.1 in /home/plavainne/.local/lib/python3.7/site-packages (from scikit-image) (1.6.2)\n",
      "Requirement already satisfied: imageio>=2.3.0 in /home/plavainne/.local/lib/python3.7/site-packages (from scikit-image) (2.9.0)\n",
      "Requirement already satisfied: matplotlib!=3.0.0,>=2.0.0 in /home/plavainne/.local/lib/python3.7/site-packages (from scikit-image) (3.3.4)\n"
     ]
    },
    {
     "name": "stdout",
     "output_type": "stream",
     "text": [
      "Requirement already satisfied: pyparsing!=2.0.4,!=2.1.2,!=2.1.6,>=2.0.3 in /home/plavainne/.local/lib/python3.7/site-packages (from matplotlib!=3.0.0,>=2.0.0->scikit-image) (2.4.7)\n",
      "Requirement already satisfied: python-dateutil>=2.1 in /home/plavainne/.local/lib/python3.7/site-packages (from matplotlib!=3.0.0,>=2.0.0->scikit-image) (2.8.1)\n",
      "Requirement already satisfied: cycler>=0.10 in /home/plavainne/.local/lib/python3.7/site-packages (from matplotlib!=3.0.0,>=2.0.0->scikit-image) (0.10.0)\n",
      "Requirement already satisfied: kiwisolver>=1.0.1 in /home/plavainne/.local/lib/python3.7/site-packages (from matplotlib!=3.0.0,>=2.0.0->scikit-image) (1.3.1)\n",
      "Requirement already satisfied: six in /home/plavainne/.local/lib/python3.7/site-packages (from cycler>=0.10->matplotlib!=3.0.0,>=2.0.0->scikit-image) (1.15.0)\n",
      "Requirement already satisfied: decorator>=4.3.0 in /home/plavainne/.local/lib/python3.7/site-packages (from networkx>=2.0->scikit-image) (4.4.2)\n",
      "WARNING: pip is being invoked by an old script wrapper. This will fail in a future version of pip.\n",
      "Please see https://github.com/pypa/pip/issues/5599 for advice on fixing the underlying issue.\n",
      "To avoid this problem you can invoke Python with '-m pip' instead of running pip directly.\n",
      "/usr/lib/python3/dist-packages/secretstorage/dhcrypto.py:15: CryptographyDeprecationWarning: int_from_bytes is deprecated, use int.from_bytes instead\n",
      "  from cryptography.utils import int_from_bytes\n",
      "/usr/lib/python3/dist-packages/secretstorage/util.py:19: CryptographyDeprecationWarning: int_from_bytes is deprecated, use int.from_bytes instead\n",
      "  from cryptography.utils import int_from_bytes\n",
      "Defaulting to user installation because normal site-packages is not writeable\n",
      "Requirement already satisfied: tensorflow in /home/plavainne/.local/lib/python3.7/site-packages (2.4.1)\n",
      "Requirement already satisfied: typing-extensions~=3.7.4 in /home/plavainne/.local/lib/python3.7/site-packages (from tensorflow) (3.7.4.3)\n",
      "Requirement already satisfied: tensorflow-estimator<2.5.0,>=2.4.0 in /home/plavainne/.local/lib/python3.7/site-packages (from tensorflow) (2.4.0)\n",
      "Requirement already satisfied: grpcio~=1.32.0 in /home/plavainne/.local/lib/python3.7/site-packages (from tensorflow) (1.32.0)\n",
      "Requirement already satisfied: gast==0.3.3 in /home/plavainne/.local/lib/python3.7/site-packages (from tensorflow) (0.3.3)\n",
      "Requirement already satisfied: absl-py~=0.10 in /home/plavainne/.local/lib/python3.7/site-packages (from tensorflow) (0.12.0)\n",
      "Requirement already satisfied: h5py~=2.10.0 in /home/plavainne/.local/lib/python3.7/site-packages (from tensorflow) (2.10.0)\n",
      "Requirement already satisfied: opt-einsum~=3.3.0 in /home/plavainne/.local/lib/python3.7/site-packages (from tensorflow) (3.3.0)\n",
      "Requirement already satisfied: wheel~=0.35 in /home/plavainne/.local/lib/python3.7/site-packages (from tensorflow) (0.36.2)\n",
      "Requirement already satisfied: astunparse~=1.6.3 in /home/plavainne/.local/lib/python3.7/site-packages (from tensorflow) (1.6.3)\n",
      "Requirement already satisfied: tensorboard~=2.4 in /home/plavainne/.local/lib/python3.7/site-packages (from tensorflow) (2.4.1)\n",
      "Requirement already satisfied: flatbuffers~=1.12.0 in /home/plavainne/.local/lib/python3.7/site-packages (from tensorflow) (1.12)\n",
      "Requirement already satisfied: termcolor~=1.1.0 in /home/plavainne/.local/lib/python3.7/site-packages (from tensorflow) (1.1.0)\n",
      "Requirement already satisfied: keras-preprocessing~=1.1.2 in /home/plavainne/.local/lib/python3.7/site-packages (from tensorflow) (1.1.2)\n",
      "Requirement already satisfied: google-pasta~=0.2 in /home/plavainne/.local/lib/python3.7/site-packages (from tensorflow) (0.2.0)\n",
      "Requirement already satisfied: six~=1.15.0 in /home/plavainne/.local/lib/python3.7/site-packages (from tensorflow) (1.15.0)\n",
      "Requirement already satisfied: wrapt~=1.12.1 in /home/plavainne/.local/lib/python3.7/site-packages (from tensorflow) (1.12.1)\n",
      "Collecting numpy~=1.19.2\n",
      "  Using cached numpy-1.19.5-cp37-cp37m-manylinux2010_x86_64.whl (14.8 MB)\n",
      "Requirement already satisfied: protobuf>=3.9.2 in /home/plavainne/.local/lib/python3.7/site-packages (from tensorflow) (3.15.5)\n",
      "Requirement already satisfied: tensorboard-plugin-wit>=1.6.0 in /home/plavainne/.local/lib/python3.7/site-packages (from tensorboard~=2.4->tensorflow) (1.8.0)\n",
      "Requirement already satisfied: google-auth<2,>=1.6.3 in /home/plavainne/.local/lib/python3.7/site-packages (from tensorboard~=2.4->tensorflow) (1.27.1)\n",
      "Requirement already satisfied: requests<3,>=2.21.0 in /home/plavainne/.local/lib/python3.7/site-packages (from tensorboard~=2.4->tensorflow) (2.25.1)\n",
      "Requirement already satisfied: markdown>=2.6.8 in /home/plavainne/.local/lib/python3.7/site-packages (from tensorboard~=2.4->tensorflow) (3.3.4)\n",
      "Requirement already satisfied: werkzeug>=0.11.15 in /home/plavainne/.local/lib/python3.7/site-packages (from tensorboard~=2.4->tensorflow) (1.0.1)\n",
      "Requirement already satisfied: google-auth-oauthlib<0.5,>=0.4.1 in /home/plavainne/.local/lib/python3.7/site-packages (from tensorboard~=2.4->tensorflow) (0.4.3)\n",
      "Requirement already satisfied: setuptools>=41.0.0 in /home/plavainne/.local/lib/python3.7/site-packages (from tensorboard~=2.4->tensorflow) (54.1.2)\n",
      "Requirement already satisfied: cachetools<5.0,>=2.0.0 in /home/plavainne/.local/lib/python3.7/site-packages (from google-auth<2,>=1.6.3->tensorboard~=2.4->tensorflow) (4.2.1)\n",
      "Requirement already satisfied: rsa<5,>=3.1.4 in /home/plavainne/.local/lib/python3.7/site-packages (from google-auth<2,>=1.6.3->tensorboard~=2.4->tensorflow) (4.7.2)\n",
      "Requirement already satisfied: pyasn1-modules>=0.2.1 in /home/plavainne/.local/lib/python3.7/site-packages (from google-auth<2,>=1.6.3->tensorboard~=2.4->tensorflow) (0.2.8)\n",
      "Requirement already satisfied: requests-oauthlib>=0.7.0 in /home/plavainne/.local/lib/python3.7/site-packages (from google-auth-oauthlib<0.5,>=0.4.1->tensorboard~=2.4->tensorflow) (1.3.0)\n",
      "Requirement already satisfied: importlib-metadata in /home/plavainne/.local/lib/python3.7/site-packages (from markdown>=2.6.8->tensorboard~=2.4->tensorflow) (3.7.3)\n",
      "Requirement already satisfied: pyasn1<0.5.0,>=0.4.6 in /home/plavainne/.local/lib/python3.7/site-packages (from pyasn1-modules>=0.2.1->google-auth<2,>=1.6.3->tensorboard~=2.4->tensorflow) (0.4.8)\n",
      "Requirement already satisfied: chardet<5,>=3.0.2 in /home/plavainne/.local/lib/python3.7/site-packages (from requests<3,>=2.21.0->tensorboard~=2.4->tensorflow) (4.0.0)\n",
      "Requirement already satisfied: urllib3<1.27,>=1.21.1 in /home/plavainne/.local/lib/python3.7/site-packages (from requests<3,>=2.21.0->tensorboard~=2.4->tensorflow) (1.26.4)\n",
      "Requirement already satisfied: idna<3,>=2.5 in /home/plavainne/.local/lib/python3.7/site-packages (from requests<3,>=2.21.0->tensorboard~=2.4->tensorflow) (2.10)\n",
      "Requirement already satisfied: certifi>=2017.4.17 in /home/plavainne/.local/lib/python3.7/site-packages (from requests<3,>=2.21.0->tensorboard~=2.4->tensorflow) (2020.12.5)\n",
      "Requirement already satisfied: oauthlib>=3.0.0 in /home/plavainne/.local/lib/python3.7/site-packages (from requests-oauthlib>=0.7.0->google-auth-oauthlib<0.5,>=0.4.1->tensorboard~=2.4->tensorflow) (3.1.0)\n",
      "Requirement already satisfied: zipp>=0.5 in /home/plavainne/.local/lib/python3.7/site-packages (from importlib-metadata->markdown>=2.6.8->tensorboard~=2.4->tensorflow) (3.4.1)\n",
      "Installing collected packages: numpy\n",
      "  Attempting uninstall: numpy\n",
      "    Found existing installation: numpy 1.20.2\n",
      "    Uninstalling numpy-1.20.2:\n",
      "      Successfully uninstalled numpy-1.20.2\n",
      "\u001b[33m  WARNING: The scripts f2py, f2py3 and f2py3.7 are installed in '/home/plavainne/.local/bin' which is not on PATH.\n",
      "  Consider adding this directory to PATH or, if you prefer to suppress this warning, use --no-warn-script-location.\u001b[0m\n",
      "Successfully installed numpy-1.19.5\n",
      "WARNING: pip is being invoked by an old script wrapper. This will fail in a future version of pip.\n",
      "Please see https://github.com/pypa/pip/issues/5599 for advice on fixing the underlying issue.\n",
      "To avoid this problem you can invoke Python with '-m pip' instead of running pip directly.\n",
      "/usr/lib/python3/dist-packages/secretstorage/dhcrypto.py:15: CryptographyDeprecationWarning: int_from_bytes is deprecated, use int.from_bytes instead\n",
      "  from cryptography.utils import int_from_bytes\n",
      "/usr/lib/python3/dist-packages/secretstorage/util.py:19: CryptographyDeprecationWarning: int_from_bytes is deprecated, use int.from_bytes instead\n",
      "  from cryptography.utils import int_from_bytes\n"
     ]
    },
    {
     "name": "stdout",
     "output_type": "stream",
     "text": [
      "Defaulting to user installation because normal site-packages is not writeable\n",
      "Requirement already satisfied: sklearn in /home/plavainne/.local/lib/python3.7/site-packages (0.0)\n",
      "Requirement already satisfied: scikit-learn in /home/plavainne/.local/lib/python3.7/site-packages (from sklearn) (0.22.2.post1)\n",
      "Requirement already satisfied: numpy>=1.11.0 in /home/plavainne/.local/lib/python3.7/site-packages (from scikit-learn->sklearn) (1.19.5)\n",
      "Requirement already satisfied: scipy>=0.17.0 in /home/plavainne/.local/lib/python3.7/site-packages (from scikit-learn->sklearn) (1.6.2)\n",
      "Requirement already satisfied: joblib>=0.11 in /home/plavainne/.local/lib/python3.7/site-packages (from scikit-learn->sklearn) (1.0.1)\n",
      "WARNING: pip is being invoked by an old script wrapper. This will fail in a future version of pip.\n",
      "Please see https://github.com/pypa/pip/issues/5599 for advice on fixing the underlying issue.\n",
      "To avoid this problem you can invoke Python with '-m pip' instead of running pip directly.\n",
      "/usr/lib/python3/dist-packages/secretstorage/dhcrypto.py:15: CryptographyDeprecationWarning: int_from_bytes is deprecated, use int.from_bytes instead\n",
      "  from cryptography.utils import int_from_bytes\n",
      "/usr/lib/python3/dist-packages/secretstorage/util.py:19: CryptographyDeprecationWarning: int_from_bytes is deprecated, use int.from_bytes instead\n",
      "  from cryptography.utils import int_from_bytes\n",
      "Defaulting to user installation because normal site-packages is not writeable\n",
      "Requirement already satisfied: tk in /home/plavainne/.local/lib/python3.7/site-packages (0.1.0)\n",
      "WARNING: pip is being invoked by an old script wrapper. This will fail in a future version of pip.\n",
      "Please see https://github.com/pypa/pip/issues/5599 for advice on fixing the underlying issue.\n",
      "To avoid this problem you can invoke Python with '-m pip' instead of running pip directly.\n",
      "/usr/lib/python3/dist-packages/secretstorage/dhcrypto.py:15: CryptographyDeprecationWarning: int_from_bytes is deprecated, use int.from_bytes instead\n",
      "  from cryptography.utils import int_from_bytes\n",
      "/usr/lib/python3/dist-packages/secretstorage/util.py:19: CryptographyDeprecationWarning: int_from_bytes is deprecated, use int.from_bytes instead\n",
      "  from cryptography.utils import int_from_bytes\n",
      "Defaulting to user installation because normal site-packages is not writeable\n",
      "Collecting scikit-learn==0.22.2.post1.\n",
      "  Using cached scikit_learn-0.22.2.post1-cp37-cp37m-manylinux1_x86_64.whl (7.1 MB)\n",
      "Collecting scipy>=0.17.0\n",
      "  Using cached scipy-1.6.2-cp37-cp37m-manylinux1_x86_64.whl (27.4 MB)\n",
      "Collecting numpy>=1.11.0\n",
      "  Using cached numpy-1.20.2-cp37-cp37m-manylinux2010_x86_64.whl (15.3 MB)\n",
      "Collecting joblib>=0.11\n",
      "  Using cached joblib-1.0.1-py3-none-any.whl (303 kB)\n",
      "Installing collected packages: numpy, scipy, joblib, scikit-learn\n",
      "\u001b[33m  WARNING: The scripts f2py, f2py3 and f2py3.7 are installed in '/home/plavainne/.local/bin' which is not on PATH.\n",
      "  Consider adding this directory to PATH or, if you prefer to suppress this warning, use --no-warn-script-location.\u001b[0m\n",
      "\u001b[31mERROR: pip's dependency resolver does not currently take into account all the packages that are installed. This behaviour is the source of the following dependency conflicts.\n",
      "tensorflow 2.4.1 requires numpy~=1.19.2, but you have numpy 1.20.2 which is incompatible.\u001b[0m\n",
      "Successfully installed joblib-1.0.1 numpy-1.20.2 scikit-learn-0.22.2.post1 scipy-1.6.2\n"
     ]
    }
   ],
   "source": [
    "#nbi:hide_in\n",
    "#nbi:hide_out\n",
    "!pip3 install matplotlib\n",
    "!pip3 install keras\n",
    "!pip3 install spectral\n",
    "!pip3 install seaborn\n",
    "!pip3 install scikit-image\n",
    "!pip3 install tensorflow\n",
    "!pip3 install sklearn\n",
    "!pip3 install tk\n",
    "!pip3 install -I scikit-learn==0.22.2.post1."
   ]
  },
  {
   "cell_type": "code",
   "execution_count": 5,
   "metadata": {},
   "outputs": [],
   "source": [
    "#nbi:hide_in\n",
    "%matplotlib inline\n",
    "from bouton import *"
   ]
  },
  {
   "cell_type": "markdown",
   "metadata": {},
   "source": [
    "# Chargement de l'environnement"
   ]
  },
  {
   "cell_type": "code",
   "execution_count": 6,
   "metadata": {},
   "outputs": [],
   "source": [
    "#nbi:hide_in\n",
    "def on_button_clicked1(b):\n",
    "    with output1:\n",
    "        output1.clear_output()\n",
    "        \n",
    "        chargement_environnement()\n",
    "        "
   ]
  },
  {
   "cell_type": "code",
   "execution_count": 7,
   "metadata": {},
   "outputs": [
    {
     "data": {
      "application/vnd.jupyter.widget-view+json": {
       "model_id": "ef33a03e3b804f6085a1723fa6d26c09",
       "version_major": 2,
       "version_minor": 0
      },
      "text/plain": [
       "Button(button_style='success', description=\"Rechargez l'environnement\", style=ButtonStyle())"
      ]
     },
     "metadata": {},
     "output_type": "display_data"
    },
    {
     "data": {
      "application/vnd.jupyter.widget-view+json": {
       "model_id": "8f26d579902d46a980e3217bc1174534",
       "version_major": 2,
       "version_minor": 0
      },
      "text/plain": [
       "Output()"
      ]
     },
     "metadata": {},
     "output_type": "display_data"
    }
   ],
   "source": [
    "#nbi:hide_in\n",
    "button1 = widgets.Button(description=\"Rechargez l'environnement\", button_style='success') # 'success', 'info', 'warning', 'danger' or '')\n",
    "output1 = widgets.Output()\n",
    "display(button1, output1)\n",
    "\n",
    "button1.on_click(on_button_clicked1)"
   ]
  },
  {
   "cell_type": "markdown",
   "metadata": {},
   "source": [
    "# Chargement du fichier CSV"
   ]
  },
  {
   "cell_type": "markdown",
   "metadata": {},
   "source": [
    "*Importer le fichier .csv AVG obtenu grâce au clustering* :"
   ]
  },
  {
   "cell_type": "code",
   "execution_count": 8,
   "metadata": {},
   "outputs": [
    {
     "data": {
      "application/vnd.jupyter.widget-view+json": {
       "model_id": "4d0ea0d62ecd4a288fef9f767a9a3c24",
       "version_major": 2,
       "version_minor": 0
      },
      "text/plain": [
       "FileUpload(value={}, button_style='info', description='Fichier CSV')"
      ]
     },
     "metadata": {},
     "output_type": "display_data"
    }
   ],
   "source": [
    "#nbi:hide_in\n",
    "wl = widgets.FileUpload(\n",
    "    accept='', \n",
    "    multiple=False,  \n",
    "    description = 'Fichier CSV', \n",
    "    button_style='info'\n",
    "    )\n",
    "display(wl)"
   ]
  },
  {
   "cell_type": "markdown",
   "metadata": {},
   "source": [
    "# VAE"
   ]
  },
  {
   "cell_type": "code",
   "execution_count": 9,
   "metadata": {},
   "outputs": [],
   "source": [
    "#nbi:hide_in \n",
    "def on_button_clicked2(b):\n",
    "    with output2:\n",
    "        output2.clear_output()\n",
    "            \n",
    "        loaded_model = tf.keras.models.model_from_json(open('./train_models/loaded_model_v2_sqrtmse_loss.json').read())\n",
    "        loaded_model.load_weights(\"./train_models/loaded_model_v2_sqrtmse_loss.h5\")\n",
    "        loaded_model.compile(optimizer='RMSprop')\n",
    "        SVM_MSE = joblib.load('./train_models/SVM_spectral_classifier_MSE.pkl')\n",
    "            \n",
    "        X = pd.read_csv(\"./train_models/average_profile_no_outlier.csv\",index_col=[0,1,2])\n",
    "        X = X.iloc[np.random.randint(0,X.shape[0],300),:]\n",
    "        X += np.random.randn(*X.shape)*0.01\n",
    "        neg = pd.read_csv(\"./train_models/spectrum_avg_norm.csv\",index_col=0).iloc[:3,:]\n",
    "        neg = pd.concat((neg,pd.read_csv(\"./train_models/feuille_spectrum_avg_norm.csv\",index_col=0)))\n",
    "        neg = neg.iloc[np.random.randint(0,3,300),:]\n",
    "        neg += np.random.randn(*neg.shape)*0.01\n",
    "        #Spectre_test = pd.read_csv(\"test_spectrum_avg_norm.csv\",index_col=0)\n",
    "        Spectre_test = pd.read_csv(io.BytesIO(wl.value[list(wl.value.keys())[0]]['content']), index_col=0)\n",
    "        #Spectre_test\n",
    "            \n",
    "        X_test = X\n",
    "        decoded_X_test = loaded_model.predict(X)\n",
    "        decoded_neg = loaded_model.predict(neg)\n",
    "        decoded_Spectre_test = loaded_model.predict(Spectre_test)\n",
    "            \n",
    "        #plt.plot(decoded_X.T)\n",
    "        plt.plot(decoded_Spectre_test.T, \"b\")\n",
    "        plt.plot(Spectre_test.T, \"red\")\n",
    "        #plt.plot(neg[:20].T,\"green\", alpha = 0.2)\n",
    "        #plt.plot(decoded_neg[:20].T , \"black\", alpha = 0.2)\n",
    "        plt.show()\n",
    "            \n",
    "        lim_inf = 0\n",
    "        lim_sup = 448\n",
    "\n",
    "        \"\"\"\n",
    "        mse_feuille = np.array(mse(decoded_neg,neg.iloc))\n",
    "        mse_puceron = np.array(mse(decoded_X, X.iloc))\n",
    "        mse_Spectre = np.array(mse(decoded_Spectre_test, Spectre_test.iloc))\n",
    "        \"\"\"\n",
    "\n",
    "        mse_feuille = np.array(mse(decoded_neg[:,lim_inf:lim_sup],neg.iloc[:,lim_inf:lim_sup]))\n",
    "        mse_puceron = np.array(mse(decoded_X_test[:,lim_inf:lim_sup], X_test.iloc[:,lim_inf:lim_sup]))\n",
    "        mse_Spectre = np.array(mse(decoded_Spectre_test[:,lim_inf:lim_sup], Spectre_test.iloc[:,lim_inf:lim_sup]))\n",
    "\n",
    "\n",
    "        sqrt_mse_p = np.array(np.sqrt(mse(decoded_X_test[:,lim_inf:lim_sup], X_test.iloc[:,lim_inf:lim_sup])))\n",
    "        sqrt_mse_f = np.array(np.sqrt(mse(decoded_neg[:,lim_inf:lim_sup], neg.iloc[:,lim_inf:lim_sup])))\n",
    "        sqrt_Spectre = np.array(np.sqrt(mse(decoded_Spectre_test[:,lim_inf:lim_sup], Spectre_test.iloc[:,lim_inf:lim_sup])))\n",
    "\n",
    "        mape_feuille = np.array(MAPE(decoded_neg[:,lim_inf:lim_sup], neg.iloc[:,lim_inf:lim_sup]))\n",
    "        mape_puceron = np.array(MAPE(decoded_X_test[:,lim_inf:lim_sup], X_test.iloc[:,lim_inf:lim_sup]))\n",
    "        mape_Spectre = np.array(MAPE(decoded_Spectre_test[:,lim_inf:lim_sup], Spectre_test.iloc[:,lim_inf:lim_sup]))\n",
    "\n",
    "        mselog_feuille = np.array(MSLE(decoded_neg[:,lim_inf:lim_sup], neg.iloc[:,lim_inf:lim_sup]))\n",
    "        mselog_puceron = np.array(MSLE(decoded_X_test[:,lim_inf:lim_sup], X_test.iloc[:,lim_inf:lim_sup]))\n",
    "        mselog_Spectre = np.array(MSLE(decoded_Spectre_test[:,lim_inf:lim_sup], Spectre_test.iloc[:,lim_inf:lim_sup]))\n",
    "            \n",
    "        bins = np.linspace(-0.001, 0.1, 150)\n",
    "\n",
    "        plt.hist(mse_feuille, bins, alpha=0.5, label='feuille')\n",
    "        plt.hist(mse_puceron, bins, alpha=0.5, label='puceron')\n",
    "        plt.hist(mse_Spectre, bins, alpha=1, label = \"Spectre\")\n",
    "        plt.ylim(-0.1,6)\n",
    "        plt.legend(loc='upper left')\n",
    "        plt.title(\"MSE\")\n",
    "        plt.show()\n",
    "            \n",
    "        bins = np.linspace(-0.0, 0.3, 150)\n",
    "\n",
    "        plt.hist(sqrt_mse_f, bins, alpha=0.5, label='feuille')\n",
    "        plt.hist(sqrt_mse_p, bins, alpha=0.5, label='puceron')\n",
    "        plt.hist(sqrt_Spectre, bins, alpha=1, label = \"Spectre\")\n",
    "        plt.ylim(-0.1,6)\n",
    "        plt.legend(loc='upper left')\n",
    "        plt.title(\"SQRT(MSE)\")\n",
    "        plt.show()\n",
    "            \n",
    "        bins = np.linspace(-0.001, 0.003, 100)\n",
    "\n",
    "        plt.hist(mselog_feuille, bins, alpha=0.5, label='feuille')\n",
    "        plt.hist(mselog_puceron, bins, alpha=0.5, label='puceron')\n",
    "        plt.hist(mselog_Spectre, bins, alpha=1, label = \"Spectre\")\n",
    "        plt.ylim(-1,10)\n",
    "        plt.legend(loc='upper left')\n",
    "        plt.title(\"Log(MSE)\")\n",
    "        plt.show()\n",
    "            \n",
    "        bins = np.linspace(-0.01, 100, 150)\n",
    "\n",
    "        plt.hist(mape_feuille, bins, alpha=0.5, label='feuille')\n",
    "        plt.hist(mape_puceron, bins, alpha=0.5, label='puceron')\n",
    "        plt.hist(mape_Spectre, bins, alpha=1, label = \"Spectre\")\n",
    "        plt.legend(loc='upper left')\n",
    "        plt.title(\"MAPE\")\n",
    "        plt.show()\n",
    "            \n",
    "        PREDICTION_SPECTRE = SVM_MSE.predict(np.array(mse_Spectre).reshape(-1,1))\n",
    "        print(\"\\n Prediction du spectre :\")\n",
    "        list_pred = []\n",
    "        for i,e in enumerate(Spectre_test.index):\n",
    "            list_pred.append((str(e)+\" : \"+str(PREDICTION_SPECTRE[i])))\n",
    "            #print(Spectre_test.index)\n",
    "            #print(PREDICTION_SPECTRE)\n",
    "        print(list_pred)\n",
    "    \n"
   ]
  },
  {
   "cell_type": "code",
   "execution_count": 10,
   "metadata": {},
   "outputs": [
    {
     "data": {
      "application/vnd.jupyter.widget-view+json": {
       "model_id": "e264d9a070574d4aaf78f0f6072d4a62",
       "version_major": 2,
       "version_minor": 0
      },
      "text/plain": [
       "Button(button_style='warning', description='VAE', style=ButtonStyle())"
      ]
     },
     "metadata": {},
     "output_type": "display_data"
    },
    {
     "data": {
      "application/vnd.jupyter.widget-view+json": {
       "model_id": "6cc7767ec3914ca5a102e5e88fcca46c",
       "version_major": 2,
       "version_minor": 0
      },
      "text/plain": [
       "Output()"
      ]
     },
     "metadata": {},
     "output_type": "display_data"
    }
   ],
   "source": [
    "#nbi:hide_in \n",
    "button2 = widgets.Button(description=\"VAE\", button_style='warning')\n",
    "output2 = widgets.Output()\n",
    "display(button2, output2)\n",
    "\n",
    "button2.on_click(on_button_clicked2)"
   ]
  }
 ],
 "metadata": {
  "kernelspec": {
   "display_name": "Python 3",
   "language": "python",
   "name": "python3"
  },
  "language_info": {
   "codemirror_mode": {
    "name": "ipython",
    "version": 3
   },
   "file_extension": ".py",
   "mimetype": "text/x-python",
   "name": "python",
   "nbconvert_exporter": "python",
   "pygments_lexer": "ipython3",
   "version": "3.7.3"
  }
 },
 "nbformat": 4,
 "nbformat_minor": 2
}
